{
  "nbformat": 4,
  "nbformat_minor": 0,
  "metadata": {
    "colab": {
      "name": "Python Teaching Big Brother.ipynb",
      "provenance": [],
      "authorship_tag": "ABX9TyPzW+X1NEjg/BYfR11u2TzS",
      "include_colab_link": true
    },
    "kernelspec": {
      "name": "python3",
      "display_name": "Python 3"
    }
  },
  "cells": [
    {
      "cell_type": "markdown",
      "metadata": {
        "id": "view-in-github",
        "colab_type": "text"
      },
      "source": [
        "<a href=\"https://colab.research.google.com/github/layonthehorn/Teaching/blob/master/Python_Teaching_Big_Brother.ipynb\" target=\"_parent\"><img src=\"https://colab.research.google.com/assets/colab-badge.svg\" alt=\"Open In Colab\"/></a>"
      ]
    },
    {
      "cell_type": "markdown",
      "metadata": {
        "id": "oCdLiUB4nMAf",
        "colab_type": "text"
      },
      "source": [
        "**Timed Puzzle Testing**"
      ]
    },
    {
      "cell_type": "code",
      "metadata": {
        "id": "Wjlc94HXmHUc",
        "colab_type": "code",
        "colab": {}
      },
      "source": [
        "import time\n",
        "\n",
        "# testing cooking puzzle\n",
        "\n",
        "# gets starting time\n",
        "start_time = time.time()\n",
        "\n",
        "# loop to wait for player input\n",
        "cooking = True\n",
        "while cooking:\n",
        "    user_input = input(\"done to quit (tap,cute).\\n\").lower()\n",
        "    if user_input == \"done\":\n",
        "        cooking = False\n",
        "    elif user_input == \"tap\":\n",
        "        print(\"Vern taps his foot in annoyance.\")\n",
        "    elif user_input == \"cute\":\n",
        "        print(\"Vern continues to be very cute.\")\n",
        "    else:\n",
        "        print(\"Vern: I'm so sick of this...\")\n",
        "\n",
        "# Checks if you let it cook for about 20 seconds, with some wiggle room.\n",
        "# Rounds to nearest integer because time returns an decimal value,\n",
        "# rather than a clean integer value.\n",
        "total_time = round(time.time() - start_time)\n",
        "print(total_time, \" ,Total time taken.\")\n",
        "if 18 < total_time < 24:\n",
        "    print(\"It's working now!\")\n",
        "else:\n",
        "    print(\"I didn't time it right.\")"
      ],
      "execution_count": 0,
      "outputs": []
    },
    {
      "cell_type": "markdown",
      "metadata": {
        "id": "i_QbGNQ9nSZM",
        "colab_type": "text"
      },
      "source": [
        ""
      ]
    },
    {
      "cell_type": "code",
      "metadata": {
        "id": "0yzIPcPknSgm",
        "colab_type": "code",
        "colab": {}
      },
      "source": [
        ""
      ],
      "execution_count": 0,
      "outputs": []
    }
  ]
}